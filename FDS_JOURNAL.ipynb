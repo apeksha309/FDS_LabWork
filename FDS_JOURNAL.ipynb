{
  "nbformat": 4,
  "nbformat_minor": 0,
  "metadata": {
    "colab": {
      "name": "FDS_JOURNAL.ipynb",
      "provenance": [],
      "mount_file_id": "16pUbvcvi3qamKlE1nLSo43eBkEMlnA6Y",
      "authorship_tag": "ABX9TyOhp4bKARAJqNtBL1g7aPp6",
      "include_colab_link": true
    },
    "kernelspec": {
      "name": "python3",
      "display_name": "Python 3"
    },
    "language_info": {
      "name": "python"
    }
  },
  "cells": [
    {
      "cell_type": "markdown",
      "metadata": {
        "id": "view-in-github",
        "colab_type": "text"
      },
      "source": [
        "<a href=\"https://colab.research.google.com/github/apeksha309/FDS_LabWork/blob/main/FDS_JOURNAL.ipynb\" target=\"_parent\"><img src=\"https://colab.research.google.com/assets/colab-badge.svg\" alt=\"Open In Colab\"/></a>"
      ]
    },
    {
      "cell_type": "markdown",
      "metadata": {
        "id": "BkDazgivF6wx"
      },
      "source": [
        "# **Sampling Distribution**"
      ]
    },
    {
      "cell_type": "code",
      "metadata": {
        "id": "EIsF0k-D7q1O"
      },
      "source": [
        "from pathlib import Path\n",
        "import pandas as pd\n",
        "import numpy as np\n",
        "from scipy import stats\n",
        "from sklearn.utils import resample"
      ],
      "execution_count": null,
      "outputs": []
    },
    {
      "cell_type": "code",
      "metadata": {
        "id": "TNDaEimI6oM_"
      },
      "source": [
        "import seaborn as sns\n",
        "import matplotlib.pylab as plt"
      ],
      "execution_count": null,
      "outputs": []
    },
    {
      "cell_type": "code",
      "metadata": {
        "id": "CU-c4ZzOCwiI"
      },
      "source": [
        "LOANS_INCOME_CSV =pd.read_csv('/content/drive/MyDrive/loans_income.csv')"
      ],
      "execution_count": 8,
      "outputs": []
    },
    {
      "cell_type": "code",
      "metadata": {
        "colab": {
          "base_uri": "https://localhost:8080/",
          "height": 419
        },
        "id": "cF1KlFsO8Mpl",
        "outputId": "c968c929-0d1e-46e6-c1b0-2de41a044ed0"
      },
      "source": [
        "LOANS_INCOME_CSV"
      ],
      "execution_count": 9,
      "outputs": [
        {
          "output_type": "execute_result",
          "data": {
            "text/html": [
              "<div>\n",
              "<style scoped>\n",
              "    .dataframe tbody tr th:only-of-type {\n",
              "        vertical-align: middle;\n",
              "    }\n",
              "\n",
              "    .dataframe tbody tr th {\n",
              "        vertical-align: top;\n",
              "    }\n",
              "\n",
              "    .dataframe thead th {\n",
              "        text-align: right;\n",
              "    }\n",
              "</style>\n",
              "<table border=\"1\" class=\"dataframe\">\n",
              "  <thead>\n",
              "    <tr style=\"text-align: right;\">\n",
              "      <th></th>\n",
              "      <th>x</th>\n",
              "    </tr>\n",
              "  </thead>\n",
              "  <tbody>\n",
              "    <tr>\n",
              "      <th>0</th>\n",
              "      <td>67000</td>\n",
              "    </tr>\n",
              "    <tr>\n",
              "      <th>1</th>\n",
              "      <td>52000</td>\n",
              "    </tr>\n",
              "    <tr>\n",
              "      <th>2</th>\n",
              "      <td>100000</td>\n",
              "    </tr>\n",
              "    <tr>\n",
              "      <th>3</th>\n",
              "      <td>78762</td>\n",
              "    </tr>\n",
              "    <tr>\n",
              "      <th>4</th>\n",
              "      <td>37041</td>\n",
              "    </tr>\n",
              "    <tr>\n",
              "      <th>...</th>\n",
              "      <td>...</td>\n",
              "    </tr>\n",
              "    <tr>\n",
              "      <th>49995</th>\n",
              "      <td>40000</td>\n",
              "    </tr>\n",
              "    <tr>\n",
              "      <th>49996</th>\n",
              "      <td>54000</td>\n",
              "    </tr>\n",
              "    <tr>\n",
              "      <th>49997</th>\n",
              "      <td>50000</td>\n",
              "    </tr>\n",
              "    <tr>\n",
              "      <th>49998</th>\n",
              "      <td>82000</td>\n",
              "    </tr>\n",
              "    <tr>\n",
              "      <th>49999</th>\n",
              "      <td>70000</td>\n",
              "    </tr>\n",
              "  </tbody>\n",
              "</table>\n",
              "<p>50000 rows × 1 columns</p>\n",
              "</div>"
            ],
            "text/plain": [
              "            x\n",
              "0       67000\n",
              "1       52000\n",
              "2      100000\n",
              "3       78762\n",
              "4       37041\n",
              "...       ...\n",
              "49995   40000\n",
              "49996   54000\n",
              "49997   50000\n",
              "49998   82000\n",
              "49999   70000\n",
              "\n",
              "[50000 rows x 1 columns]"
            ]
          },
          "metadata": {
            "tags": []
          },
          "execution_count": 9
        }
      ]
    },
    {
      "cell_type": "code",
      "metadata": {
        "colab": {
          "base_uri": "https://localhost:8080/"
        },
        "id": "cYg27eJM8V1d",
        "outputId": "2e9ed30e-78ce-461d-e827-05c66aa5c94b"
      },
      "source": [
        "loans_income = pd.read_csv('/content/drive/MyDrive/loans_income.csv', squeeze=True)\n",
        "\n",
        "sample_data = pd.DataFrame({\n",
        "    'income': loans_income.sample(1000),\n",
        "    'type': 'Data',\n",
        "})\n",
        "\n",
        "sample_mean_05 = pd.DataFrame({\n",
        "    'income': [loans_income.sample(5).mean() for _ in range(1000)],\n",
        "    'type': 'Mean of 5',\n",
        "})\n",
        "\n",
        "sample_mean_20 = pd.DataFrame({\n",
        "    'income': [loans_income.sample(20).mean() for _ in range(1000)],\n",
        "    'type': 'Mean of 20',\n",
        "})\n",
        "\n",
        "results = pd.concat([sample_data, sample_mean_05, sample_mean_20])\n",
        "print(results.head())"
      ],
      "execution_count": 11,
      "outputs": [
        {
          "output_type": "stream",
          "text": [
            "         income  type\n",
            "27094   82000.0  Data\n",
            "42320   58000.0  Data\n",
            "866    105000.0  Data\n",
            "27674   98000.0  Data\n",
            "21583  170000.0  Data\n"
          ],
          "name": "stdout"
        }
      ]
    },
    {
      "cell_type": "code",
      "metadata": {
        "id": "4_6Z7OZhEYYF",
        "outputId": "5cca6a76-7fd8-4c84-e451-1395158c86dc",
        "colab": {
          "base_uri": "https://localhost:8080/",
          "height": 441
        }
      },
      "source": [
        "g = sns.FacetGrid(results, col='type', col_wrap=1, \n",
        "                  height=2, aspect=2)\n",
        "g.map(plt.hist, 'income', range=[0, 200000], bins=40)\n",
        "g.set_axis_labels('Income', 'Count')\n",
        "g.set_titles('{col_name}')\n",
        "\n",
        "plt.tight_layout()\n",
        "plt.show()"
      ],
      "execution_count": 12,
      "outputs": [
        {
          "output_type": "display_data",
          "data": {
            "image/png": "[encoded data removed]",
            "text/plain": [
              "<Figure size 288x432 with 3 Axes>"
            ]
          },
          "metadata": {
            "tags": [],
            "needs_background": "light"
          }
        }
      ]
    },
    {
      "cell_type": "markdown",
      "metadata": {
        "id": "jEBm8xEYFsjn"
      },
      "source": [
        "# ****Bootstrap****"
      ]
    },
    {
      "cell_type": "code",
      "metadata": {
        "id": "DsUzm8qsFuNg",
        "outputId": "7b9c4bb2-c734-4e41-bdef-f47f074668fd",
        "colab": {
          "base_uri": "https://localhost:8080/"
        }
      },
      "source": [
        "results = []\n",
        "for nrepeat in range(1000):\n",
        "    sample = resample(loans_income)\n",
        "    results.append(sample.median())\n",
        "results = pd.Series(results)\n",
        "print('Bootstrap Statistics:')\n",
        "print(f'original: {loans_income.median()}')\n",
        "print(f'bias: {results.mean() - loans_income.median()}')\n",
        "print(f'std. error: {results.std()}')"
      ],
      "execution_count": 13,
      "outputs": [
        {
          "output_type": "stream",
          "text": [
            "Bootstrap Statistics:\n",
            "original: 62000.0\n",
            "bias: -65.41350000000239\n",
            "std. error: 195.41049621189876\n"
          ],
          "name": "stdout"
        }
      ]
    },
    {
      "cell_type": "markdown",
      "metadata": {
        "id": "jwqKifGdGVBt"
      },
      "source": [
        "# **Central Limit Theorem**"
      ]
    },
    {
      "cell_type": "code",
      "metadata": {
        "id": "o8Oj4optGIEl"
      },
      "source": [
        "import numpy as np\n",
        "import random"
      ],
      "execution_count": 14,
      "outputs": []
    },
    {
      "cell_type": "code",
      "metadata": {
        "id": "gwpffnMZGZrd",
        "outputId": "fb52e668-8675-4c6f-b996-fd66f971c3f1",
        "colab": {
          "base_uri": "https://localhost:8080/",
          "height": 282
        }
      },
      "source": [
        "# Create a parent distribution, from the gamma family\n",
        "shape, scale = 2., 2.  # mean=4, std=2*sqrt(2)\n",
        "s = np.random.gamma(shape, scale, 100000)\n",
        "print(np.mean(s))\n",
        "import matplotlib.pyplot as plt\n",
        "import scipy.special as sps\n",
        "plt.hist(s)\n",
        "plt.show()"
      ],
      "execution_count": 15,
      "outputs": [
        {
          "output_type": "stream",
          "text": [
            "3.9835395408087866\n"
          ],
          "name": "stdout"
        },
        {
          "output_type": "display_data",
          "data": {
            "image/png": "[encoded data removed]",
            "text/plain": [
              "<Figure size 432x288 with 1 Axes>"
            ]
          },
          "metadata": {
            "tags": []
          }
        }
      ]
    },
    {
      "cell_type": "code",
      "metadata": {
        "id": "fSZaZ1hoGiA0",
        "outputId": "6cbdd4aa-dd0e-4913-e1c8-af3c96332416",
        "colab": {
          "base_uri": "https://localhost:8080/",
          "height": 265
        }
      },
      "source": [
        "# The distribution of the means from the sampled groups is normally distributed\n",
        "samples = [ np.mean(random.choices(s, k=20)) for _ in range(1000) ]\n",
        "plt.hist(samples)\n",
        "plt.show()"
      ],
      "execution_count": 16,
      "outputs": [
        {
          "output_type": "display_data",
          "data": {
            "image/png": "[encoded data removed]",
            "text/plain": [
              "<Figure size 432x288 with 1 Axes>"
            ]
          },
          "metadata": {
            "tags": [],
            "needs_background": "light"
          }
        }
      ]
    },
    {
      "cell_type": "markdown",
      "metadata": {
        "id": "BYMs0rbOHFc0"
      },
      "source": [
        "# **The Law of Large Numbers**"
      ]
    },
    {
      "cell_type": "code",
      "metadata": {
        "id": "Yx_8kuJIGtcI",
        "outputId": "7fa7306c-3f91-4688-a05b-c5aec5628711",
        "colab": {
          "base_uri": "https://localhost:8080/"
        }
      },
      "source": [
        "#The law of large numbers states that as a sample size increases, the sample mean will get closer to the population mean. \n",
        "#Let’s check this with our example.\n",
        "\n",
        "#Below is an array that represents the puppies we have in our sample, where 1 \n",
        "#represents the puppies with blue eyes, and 0 represents the puppies with hazel eyes.\n",
        "\n",
        "np.random.seed(42)\n",
        "\n",
        "puppies = np.array([1,0,1,1,1,1,0,0,0,0,1,1,1,1,1,1,1,1,1,1])\n",
        "\n",
        "\n",
        "#Let's generate one more sample of size 100.\n",
        "np.random.choice(puppies, 100, replace=True)\n",
        "\n",
        "\n",
        "hundred_sample_props= []\n",
        "for i in range(10000):\n",
        "    sample = np.random.choice(puppies, 100, replace=True)\n",
        "    hundred_sample_props.append(sample.mean())\n",
        "hundred_sample_props = np.array(hundred_sample_props)\n",
        "\n",
        "np.random.choice(puppies, 5, replace=True).mean()\n",
        "np.random.choice(puppies, 20, replace=True).mean()\n",
        "np.random.choice(puppies, 100, replace=True).mean()"
      ],
      "execution_count": 17,
      "outputs": [
        {
          "output_type": "execute_result",
          "data": {
            "text/plain": [
              "0.8"
            ]
          },
          "metadata": {
            "tags": []
          },
          "execution_count": 17
        }
      ]
    },
    {
      "cell_type": "markdown",
      "metadata": {
        "id": "yhFWLEMhHvOp"
      },
      "source": [
        "# **Plotting Estimates (Mean and Standard Deviation)**"
      ]
    },
    {
      "cell_type": "code",
      "metadata": {
        "id": "F5PfoX25HwYZ",
        "outputId": "79070f89-e1cc-4cc3-b719-19a3f63d29bb",
        "colab": {
          "base_uri": "https://localhost:8080/"
        }
      },
      "source": [
        "import pandas as pd \n",
        "import numpy as np \n",
        "import matplotlib.pyplot as plt \n",
        "  \n",
        "# Make the dataframe for evaluation on Errorbars \n",
        "df = pd.DataFrame({ \n",
        "    'insert': [0.0, 0.1, 0.3, 0.5, 1.0], \n",
        "    'mean': [0.009905, 0.45019, 0.376818, 0.801856, 0.643859], \n",
        "    'quality': ['good', 'good', 'poor', 'good', 'poor'],  \n",
        "    'std': [0.003662, 0.281895, 0.306806, 0.243288, 0.322378]}) \n",
        "  \n",
        "print(df)"
      ],
      "execution_count": 18,
      "outputs": [
        {
          "output_type": "stream",
          "text": [
            "   insert      mean quality       std\n",
            "0     0.0  0.009905    good  0.003662\n",
            "1     0.1  0.450190    good  0.281895\n",
            "2     0.3  0.376818    poor  0.306806\n",
            "3     0.5  0.801856    good  0.243288\n",
            "4     1.0  0.643859    poor  0.322378\n"
          ],
          "name": "stdout"
        }
      ]
    },
    {
      "cell_type": "code",
      "metadata": {
        "id": "u9wvW65nH2gB",
        "outputId": "1b96a4b4-46e6-4851-ed3e-87df8a557ec2",
        "colab": {
          "base_uri": "https://localhost:8080/",
          "height": 279
        }
      },
      "source": [
        "#Subplots as having two types of quality \n",
        "fig, ax = plt.subplots() \n",
        "  \n",
        "for key, group in df.groupby('quality'): \n",
        "    group.plot('insert', 'mean', yerr='std',  \n",
        "               label=key, ax=ax) \n",
        "plt.show()"
      ],
      "execution_count": 20,
      "outputs": [
        {
          "output_type": "display_data",
          "data": {
            "image/png": "[encoded data removed]",
            "text/plain": [
              "<Figure size 432x288 with 1 Axes>"
            ]
          },
          "metadata": {
            "tags": [],
            "needs_background": "light"
          }
        }
      ]
    },
    {
      "cell_type": "code",
      "metadata": {
        "id": "ogxXWcX4IGCT",
        "outputId": "7a3d0cdb-09b7-4aec-e6e3-16112e9c5740",
        "colab": {
          "base_uri": "https://localhost:8080/",
          "height": 298
        }
      },
      "source": [
        "# Groupby the quality column using aggreate \n",
        "# value of mean and std \n",
        "qual = df.groupby(\"quality\").agg([np.mean, np.std]) \n",
        "qual = qual['insert'] \n",
        "qual.plot(kind = \"barh\", y = \"mean\", legend = False, \n",
        "\t\txerr = \"std\", title = \"Quality\", color='green')"
      ],
      "execution_count": 21,
      "outputs": [
        {
          "output_type": "execute_result",
          "data": {
            "text/plain": [
              "<matplotlib.axes._subplots.AxesSubplot at 0x7f6d3625a610>"
            ]
          },
          "metadata": {
            "tags": []
          },
          "execution_count": 21
        },
        {
          "output_type": "display_data",
          "data": {
            "image/png": "[encoded data removed]",
            "text/plain": [
              "<Figure size 432x288 with 1 Axes>"
            ]
          },
          "metadata": {
            "tags": [],
            "needs_background": "light"
          }
        }
      ]
    },
    {
      "cell_type": "markdown",
      "metadata": {
        "id": "wEfVVWA8ITEx"
      },
      "source": [
        "# **Defining Confidence Interval**"
      ]
    },
    {
      "cell_type": "code",
      "metadata": {
        "id": "iKwTetOQIHdj",
        "outputId": "6ba461f1-c620-4f45-bc38-f2514582cd86",
        "colab": {
          "base_uri": "https://localhost:8080/",
          "height": 259
        }
      },
      "source": [
        "print(loans_income.mean())\n",
        "np.random.seed(seed=3)  \n",
        "# create a sample of 20 loan income data\n",
        "sample20 = resample(loans_income, n_samples=20, replace=False)\n",
        "print(sample20.mean())\n",
        "results = []\n",
        "for nrepeat in range(500):\n",
        "    sample = resample(sample20)\n",
        "    results.append(sample.mean())\n",
        "results = pd.Series(results)\n",
        "\n",
        "confidence_interval = list(results.quantile([0.05, 0.95]))\n",
        "ax = results.plot.hist(bins=30, figsize=(4, 3))\n",
        "ax.plot(confidence_interval, [55, 55], color='black')\n",
        "for x in confidence_interval:\n",
        "    ax.plot([x, x], [0, 65], color='black')\n",
        "    ax.text(x, 70, f'{x:.0f}', \n",
        "            horizontalalignment='center', verticalalignment='center')\n",
        "ax.text(sum(confidence_interval) / 2, 60, '90% interval',\n",
        "        horizontalalignment='center', verticalalignment='center')\n",
        "\n",
        "meanIncome = results.mean()\n",
        "ax.plot([meanIncome, meanIncome], [0, 50], color='black', linestyle='--')\n",
        "ax.text(meanIncome, 10, f'Mean: {meanIncome:.0f}',\n",
        "        bbox=dict(facecolor='white', edgecolor='white', alpha=0.5),\n",
        "        horizontalalignment='center', verticalalignment='center')\n",
        "ax.set_ylim(0, 80)\n",
        "ax.set_ylabel('Counts')\n",
        "\n",
        "plt.tight_layout()\n",
        "plt.show()"
      ],
      "execution_count": 22,
      "outputs": [
        {
          "output_type": "stream",
          "text": [
            "68760.51844\n",
            "55734.1\n"
          ],
          "name": "stdout"
        },
        {
          "output_type": "display_data",
          "data": {
            "image/png": "[encoded data removed]",
            "text/plain": [
              "<Figure size 288x216 with 1 Axes>"
            ]
          },
          "metadata": {
            "tags": [],
            "needs_background": "light"
          }
        }
      ]
    },
    {
      "cell_type": "markdown",
      "metadata": {
        "id": "qOJjCfxrIe0R"
      },
      "source": [
        "# **Inferential Statistics**\n",
        "\n",
        "1. Calculating Expected Parameters (Mean and\n",
        "Standard Deviation)\n"
      ]
    },
    {
      "cell_type": "code",
      "metadata": {
        "id": "Lpke4v50H-TL"
      },
      "source": [
        "data=pd.read_csv('/content/drive/MyDrive/loans_income.csv')"
      ],
      "execution_count": 24,
      "outputs": []
    },
    {
      "cell_type": "code",
      "metadata": {
        "id": "QBiE2hBPItOA",
        "outputId": "afe47f0a-c7eb-4955-b198-bc20cbd84154",
        "colab": {
          "base_uri": "https://localhost:8080/"
        }
      },
      "source": [
        "# Compute the mean and standard deviation of the sample_distances\n",
        "sample_mean = np.mean(data)\n",
        "sample_stdev = np.std(data)\n",
        "print(\"mean\",sample_mean)\n",
        "print(\"standard deviation\",sample_stdev)"
      ],
      "execution_count": 25,
      "outputs": [
        {
          "output_type": "stream",
          "text": [
            "mean x    68760.51844\n",
            "dtype: float64\n",
            "standard deviation x    32871.706648\n",
            "dtype: float64\n"
          ],
          "name": "stdout"
        }
      ]
    }
  ]
}