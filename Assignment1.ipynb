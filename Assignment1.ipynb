{
  "nbformat": 4,
  "nbformat_minor": 0,
  "metadata": {
    "colab": {
      "name": "Assignment1.ipynb",
      "provenance": [],
      "collapsed_sections": [],
      "authorship_tag": "ABX9TyPqEhrU6/8XSR4YNPeHGwE0",
      "include_colab_link": true
    },
    "kernelspec": {
      "name": "python3",
      "display_name": "Python 3"
    }
  },
  "cells": [
    {
      "cell_type": "markdown",
      "metadata": {
        "id": "view-in-github",
        "colab_type": "text"
      },
      "source": [
        "<a href=\"https://colab.research.google.com/github/apeksha309/FDS_LabWork/blob/main/Assignment1.ipynb\" target=\"_parent\"><img src=\"https://colab.research.google.com/assets/colab-badge.svg\" alt=\"Open In Colab\"/></a>"
      ]
    },
    {
      "cell_type": "code",
      "metadata": {
        "id": "0gIfySaUD8e6"
      },
      "source": [
        "import pandas as pd"
      ],
      "execution_count": 1,
      "outputs": []
    },
    {
      "cell_type": "code",
      "metadata": {
        "colab": {
          "base_uri": "https://localhost:8080/",
          "height": 173
        },
        "id": "AG5NTzIxRW5H",
        "outputId": "3b8eedf8-f412-4e07-abff-4714205664c4"
      },
      "source": [
        "empid=['E101','E102','E103','E104']\r\n",
        "fname=['Shweta','Manisha','Madhu','Anita']\r\n",
        "lname=['Subnis','Perdesi','Mali','Rai']\r\n",
        "designation=['ProjectEngineer','Tester','SrSoftwareEngineer','WebDeveloper']\r\n",
        "basic_salary=[40000,50000,60000,70000]\r\n",
        "emplist=zip(empid,fname,lname,designation,basic_salary)\r\n",
        "df=pd.DataFrame(data=emplist,columns=['EmpId','FName','LName','Designation','Basic Salary'])\r\n",
        "df.to_csv('employeedetails.csv',index=False,header=False)\r\n",
        "df "
      ],
      "execution_count": 6,
      "outputs": [
        {
          "output_type": "execute_result",
          "data": {
            "text/html": [
              "<div>\n",
              "<style scoped>\n",
              "    .dataframe tbody tr th:only-of-type {\n",
              "        vertical-align: middle;\n",
              "    }\n",
              "\n",
              "    .dataframe tbody tr th {\n",
              "        vertical-align: top;\n",
              "    }\n",
              "\n",
              "    .dataframe thead th {\n",
              "        text-align: right;\n",
              "    }\n",
              "</style>\n",
              "<table border=\"1\" class=\"dataframe\">\n",
              "  <thead>\n",
              "    <tr style=\"text-align: right;\">\n",
              "      <th></th>\n",
              "      <th>EmpId</th>\n",
              "      <th>FName</th>\n",
              "      <th>LName</th>\n",
              "      <th>Designation</th>\n",
              "      <th>Basic Salary</th>\n",
              "    </tr>\n",
              "  </thead>\n",
              "  <tbody>\n",
              "    <tr>\n",
              "      <th>0</th>\n",
              "      <td>E101</td>\n",
              "      <td>Shweta</td>\n",
              "      <td>Subnis</td>\n",
              "      <td>ProjectEngineer</td>\n",
              "      <td>40000</td>\n",
              "    </tr>\n",
              "    <tr>\n",
              "      <th>1</th>\n",
              "      <td>E102</td>\n",
              "      <td>Manisha</td>\n",
              "      <td>Perdesi</td>\n",
              "      <td>Tester</td>\n",
              "      <td>50000</td>\n",
              "    </tr>\n",
              "    <tr>\n",
              "      <th>2</th>\n",
              "      <td>E103</td>\n",
              "      <td>Madhu</td>\n",
              "      <td>Mali</td>\n",
              "      <td>SrSoftwareEngineer</td>\n",
              "      <td>60000</td>\n",
              "    </tr>\n",
              "    <tr>\n",
              "      <th>3</th>\n",
              "      <td>E104</td>\n",
              "      <td>Anita</td>\n",
              "      <td>Rai</td>\n",
              "      <td>WebDeveloper</td>\n",
              "      <td>70000</td>\n",
              "    </tr>\n",
              "  </tbody>\n",
              "</table>\n",
              "</div>"
            ],
            "text/plain": [
              "  EmpId    FName    LName         Designation  Basic Salary\n",
              "0  E101   Shweta   Subnis     ProjectEngineer         40000\n",
              "1  E102  Manisha  Perdesi              Tester         50000\n",
              "2  E103    Madhu     Mali  SrSoftwareEngineer         60000\n",
              "3  E104    Anita      Rai        WebDeveloper         70000"
            ]
          },
          "metadata": {
            "tags": []
          },
          "execution_count": 6
        }
      ]
    },
    {
      "cell_type": "code",
      "metadata": {
        "colab": {
          "base_uri": "https://localhost:8080/"
        },
        "id": "TJMq0JSHXM7o",
        "outputId": "41bda50f-ba08-4b51-ac80-136e90fedebe"
      },
      "source": [
        "pip install xlsxwriter"
      ],
      "execution_count": 8,
      "outputs": [
        {
          "output_type": "stream",
          "text": [
            "Collecting xlsxwriter\n",
            "\u001b[?25l  Downloading https://files.pythonhosted.org/packages/6b/41/bf1aae04932d1eaffee1fc5f8b38ca47bbbf07d765129539bc4bcce1ce0c/XlsxWriter-1.3.7-py2.py3-none-any.whl (144kB)\n",
            "\r\u001b[K     |██▎                             | 10kB 13.2MB/s eta 0:00:01\r\u001b[K     |████▌                           | 20kB 8.3MB/s eta 0:00:01\r\u001b[K     |██████▉                         | 30kB 6.0MB/s eta 0:00:01\r\u001b[K     |█████████                       | 40kB 6.2MB/s eta 0:00:01\r\u001b[K     |███████████▎                    | 51kB 4.3MB/s eta 0:00:01\r\u001b[K     |█████████████▋                  | 61kB 4.6MB/s eta 0:00:01\r\u001b[K     |███████████████▉                | 71kB 4.8MB/s eta 0:00:01\r\u001b[K     |██████████████████▏             | 81kB 5.0MB/s eta 0:00:01\r\u001b[K     |████████████████████▍           | 92kB 5.1MB/s eta 0:00:01\r\u001b[K     |██████████████████████▋         | 102kB 5.2MB/s eta 0:00:01\r\u001b[K     |█████████████████████████       | 112kB 5.2MB/s eta 0:00:01\r\u001b[K     |███████████████████████████▏    | 122kB 5.2MB/s eta 0:00:01\r\u001b[K     |█████████████████████████████▌  | 133kB 5.2MB/s eta 0:00:01\r\u001b[K     |███████████████████████████████▊| 143kB 5.2MB/s eta 0:00:01\r\u001b[K     |████████████████████████████████| 153kB 5.2MB/s \n",
            "\u001b[?25hInstalling collected packages: xlsxwriter\n",
            "Successfully installed xlsxwriter-1.3.7\n"
          ],
          "name": "stdout"
        }
      ]
    },
    {
      "cell_type": "code",
      "metadata": {
        "colab": {
          "base_uri": "https://localhost:8080/",
          "height": 173
        },
        "id": "FV5My3AFTk7m",
        "outputId": "5d0ec054-c0b3-448f-d62d-6ac4da1a820c"
      },
      "source": [
        "empid=['E101','E102','E103','E104']\r\n",
        "fname=['Shweta','Manisha','Madhu','Anita']\r\n",
        "lname=['Subnis','Perdesi','Mali','Rai']\r\n",
        "designation=['ProjectEngineer','Tester','SrSoftwareEngineer','WebDeveloper']\r\n",
        "basic_salary=[40000,50000,60000,70000]\r\n",
        "emplist=zip(empid,fname,lname,designation,basic_salary)\r\n",
        "df=pd.DataFrame(data=emplist,columns=['EmpId','FName','LName','Designation','Basic Salary'])\r\n",
        "writer=pd.ExcelWriter('dataframe.xlsx',engine='xlsxwriter')\r\n",
        "df.to_excel(writer,sheet_name='Sheet1')\r\n",
        "writer.save()\r\n",
        "df.head()"
      ],
      "execution_count": 9,
      "outputs": [
        {
          "output_type": "execute_result",
          "data": {
            "text/html": [
              "<div>\n",
              "<style scoped>\n",
              "    .dataframe tbody tr th:only-of-type {\n",
              "        vertical-align: middle;\n",
              "    }\n",
              "\n",
              "    .dataframe tbody tr th {\n",
              "        vertical-align: top;\n",
              "    }\n",
              "\n",
              "    .dataframe thead th {\n",
              "        text-align: right;\n",
              "    }\n",
              "</style>\n",
              "<table border=\"1\" class=\"dataframe\">\n",
              "  <thead>\n",
              "    <tr style=\"text-align: right;\">\n",
              "      <th></th>\n",
              "      <th>EmpId</th>\n",
              "      <th>FName</th>\n",
              "      <th>LName</th>\n",
              "      <th>Designation</th>\n",
              "      <th>Basic Salary</th>\n",
              "    </tr>\n",
              "  </thead>\n",
              "  <tbody>\n",
              "    <tr>\n",
              "      <th>0</th>\n",
              "      <td>E101</td>\n",
              "      <td>Shweta</td>\n",
              "      <td>Subnis</td>\n",
              "      <td>ProjectEngineer</td>\n",
              "      <td>40000</td>\n",
              "    </tr>\n",
              "    <tr>\n",
              "      <th>1</th>\n",
              "      <td>E102</td>\n",
              "      <td>Manisha</td>\n",
              "      <td>Perdesi</td>\n",
              "      <td>Tester</td>\n",
              "      <td>50000</td>\n",
              "    </tr>\n",
              "    <tr>\n",
              "      <th>2</th>\n",
              "      <td>E103</td>\n",
              "      <td>Madhu</td>\n",
              "      <td>Mali</td>\n",
              "      <td>SrSoftwareEngineer</td>\n",
              "      <td>60000</td>\n",
              "    </tr>\n",
              "    <tr>\n",
              "      <th>3</th>\n",
              "      <td>E104</td>\n",
              "      <td>Anita</td>\n",
              "      <td>Rai</td>\n",
              "      <td>WebDeveloper</td>\n",
              "      <td>70000</td>\n",
              "    </tr>\n",
              "  </tbody>\n",
              "</table>\n",
              "</div>"
            ],
            "text/plain": [
              "  EmpId    FName    LName         Designation  Basic Salary\n",
              "0  E101   Shweta   Subnis     ProjectEngineer         40000\n",
              "1  E102  Manisha  Perdesi              Tester         50000\n",
              "2  E103    Madhu     Mali  SrSoftwareEngineer         60000\n",
              "3  E104    Anita      Rai        WebDeveloper         70000"
            ]
          },
          "metadata": {
            "tags": []
          },
          "execution_count": 9
        }
      ]
    },
    {
      "cell_type": "code",
      "metadata": {
        "colab": {
          "base_uri": "https://localhost:8080/"
        },
        "id": "R55yWo_fYkGZ",
        "outputId": "5c8b9696-f3c5-45f1-865d-8b22eaa66e33"
      },
      "source": [
        "import os\r\n",
        "import sqlite3 as lite\r\n",
        "mpid=['E101','E102','E103','E104']\r\n",
        "fname=['Shweta','Manisha','Madhu','Anita']\r\n",
        "lname=['Subnis','Perdesi','Mali','Rai']\r\n",
        "designation=['ProjectEngineer','Tester','SrSoftwareEngineer','WebDeveloper']\r\n",
        "basic_salary=[40000,50000,60000,70000]\r\n",
        "emplist=zip(empid,fname,lname,designation,basic_salary)\r\n",
        "df=pd.DataFrame(data=emplist,columns=['EmpId','FName','LName','Designation','Basic Salary'])\r\n",
        "db_employee = r'mydb.db'\r\n",
        "con = lite.connect(db_employee)\r\n",
        "df.to_sql('employees',\r\n",
        "con,\r\n",
        "schema=None,\r\n",
        "if_exists='replace',\r\n",
        "index=True,\r\n",
        "index_label=None,\r\n",
        "chunksize=None,\r\n",
        "dtype=None)\r\n",
        "con.close()\r\n"
      ],
      "execution_count": 12,
      "outputs": [
        {
          "output_type": "stream",
          "text": [
            "/usr/local/lib/python3.7/dist-packages/pandas/core/generic.py:2615: UserWarning: The spaces in these column names will not be changed. In pandas versions < 0.14, spaces were converted to underscores.\n",
            "  method=method,\n"
          ],
          "name": "stderr"
        }
      ]
    },
    {
      "cell_type": "code",
      "metadata": {
        "colab": {
          "base_uri": "https://localhost:8080/",
          "height": 173
        },
        "id": "JZLKd-NSZbL0",
        "outputId": "1bcde345-ac0e-41c6-905a-91a71b26b7ef"
      },
      "source": [
        "import pandas as pd\r\n",
        "from sqlalchemy import create_engine\r\n",
        "db_file = r'mydb.db'\r\n",
        "engine = create_engine(r\"sqlite:///{}\" .format(db_file))\r\n",
        "sql = 'SELECT * from employees'\r\n",
        "'where Grades in (76,77,78)'\r\n",
        "df = pd.read_sql(sql, engine)\r\n",
        "df\r\n"
      ],
      "execution_count": 15,
      "outputs": [
        {
          "output_type": "execute_result",
          "data": {
            "text/html": [
              "<div>\n",
              "<style scoped>\n",
              "    .dataframe tbody tr th:only-of-type {\n",
              "        vertical-align: middle;\n",
              "    }\n",
              "\n",
              "    .dataframe tbody tr th {\n",
              "        vertical-align: top;\n",
              "    }\n",
              "\n",
              "    .dataframe thead th {\n",
              "        text-align: right;\n",
              "    }\n",
              "</style>\n",
              "<table border=\"1\" class=\"dataframe\">\n",
              "  <thead>\n",
              "    <tr style=\"text-align: right;\">\n",
              "      <th></th>\n",
              "      <th>index</th>\n",
              "      <th>EmpId</th>\n",
              "      <th>FName</th>\n",
              "      <th>LName</th>\n",
              "      <th>Designation</th>\n",
              "      <th>Basic Salary</th>\n",
              "    </tr>\n",
              "  </thead>\n",
              "  <tbody>\n",
              "    <tr>\n",
              "      <th>0</th>\n",
              "      <td>0</td>\n",
              "      <td>E101</td>\n",
              "      <td>Shweta</td>\n",
              "      <td>Subnis</td>\n",
              "      <td>ProjectEngineer</td>\n",
              "      <td>40000</td>\n",
              "    </tr>\n",
              "    <tr>\n",
              "      <th>1</th>\n",
              "      <td>1</td>\n",
              "      <td>E102</td>\n",
              "      <td>Manisha</td>\n",
              "      <td>Perdesi</td>\n",
              "      <td>Tester</td>\n",
              "      <td>50000</td>\n",
              "    </tr>\n",
              "    <tr>\n",
              "      <th>2</th>\n",
              "      <td>2</td>\n",
              "      <td>E103</td>\n",
              "      <td>Madhu</td>\n",
              "      <td>Mali</td>\n",
              "      <td>SrSoftwareEngineer</td>\n",
              "      <td>60000</td>\n",
              "    </tr>\n",
              "    <tr>\n",
              "      <th>3</th>\n",
              "      <td>3</td>\n",
              "      <td>E104</td>\n",
              "      <td>Anita</td>\n",
              "      <td>Rai</td>\n",
              "      <td>WebDeveloper</td>\n",
              "      <td>70000</td>\n",
              "    </tr>\n",
              "  </tbody>\n",
              "</table>\n",
              "</div>"
            ],
            "text/plain": [
              "   index EmpId    FName    LName         Designation  Basic Salary\n",
              "0      0  E101   Shweta   Subnis     ProjectEngineer         40000\n",
              "1      1  E102  Manisha  Perdesi              Tester         50000\n",
              "2      2  E103    Madhu     Mali  SrSoftwareEngineer         60000\n",
              "3      3  E104    Anita      Rai        WebDeveloper         70000"
            ]
          },
          "metadata": {
            "tags": []
          },
          "execution_count": 15
        }
      ]
    }
  ]
}