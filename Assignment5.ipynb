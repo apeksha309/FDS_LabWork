{
  "nbformat": 4,
  "nbformat_minor": 0,
  "metadata": {
    "colab": {
      "name": "Assignment5.ipynb",
      "provenance": [],
      "collapsed_sections": [],
      "authorship_tag": "ABX9TyO7SROEbhWZiaLvaOH+T1Nm",
      "include_colab_link": true
    },
    "kernelspec": {
      "name": "python3",
      "display_name": "Python 3"
    }
  },
  "cells": [
    {
      "cell_type": "markdown",
      "metadata": {
        "id": "view-in-github",
        "colab_type": "text"
      },
      "source": [
        "<a href=\"https://colab.research.google.com/github/apeksha309/FDS_LabWork/blob/main/Assignment5.ipynb\" target=\"_parent\"><img src=\"https://colab.research.google.com/assets/colab-badge.svg\" alt=\"Open In Colab\"/></a>"
      ]
    },
    {
      "cell_type": "markdown",
      "metadata": {
        "id": "81bQygyvFCQz"
      },
      "source": [
        "Q. 1. Two dice are rolled, find the probability that the sum is:\r\n",
        "1. equal to 1 \r\n",
        "2. equal to 4\r\n",
        "3. less than 13."
      ]
    },
    {
      "cell_type": "code",
      "metadata": {
        "id": "exFqwCi7FGAt"
      },
      "source": [
        "def sum(num,sign):\r\n",
        "  list1=[]\r\n",
        "  totaloutcome=36\r\n",
        "  for i in range(1,7):\r\n",
        "    for j in range(1,7):\r\n",
        "      if(sign=='Equalto'):\r\n",
        "        if ((i+j)==num):\r\n",
        "          list1.append(i+j)\r\n",
        "      if(sign=='Lessthan'):\r\n",
        "        if ((i+j)<num):\r\n",
        "          list1.append(i+j)\r\n",
        "  if len(list1)<1:\r\n",
        "      print(\"No number for sum is \"+ sign + \" \" + str(num))\r\n",
        "  else:\r\n",
        "    prob1=len(list1)/totaloutcome\r\n",
        "    print(\"Probability of getting the sum of two dice as \"+ sign + \" \" + str(num) + \" is \" + str(prob1))"
      ],
      "execution_count": 6,
      "outputs": []
    },
    {
      "cell_type": "code",
      "metadata": {
        "colab": {
          "base_uri": "https://localhost:8080/"
        },
        "id": "qN1-2j0sJzZK",
        "outputId": "ee28a13b-6c22-4917-d6d0-e0166ddffe9b"
      },
      "source": [
        "i=sum(1,\"Equalto\")\r\n",
        "print(\"\")\r\n",
        "\r\n",
        "ii=sum(4,\"Equalto\")\r\n",
        "print(\"\")\r\n",
        "\r\n",
        "iii=sum(13,\"Lessthan\")"
      ],
      "execution_count": 7,
      "outputs": [
        {
          "output_type": "stream",
          "text": [
            "No number for sum is Equalto 1\n",
            "\n",
            "Probability of getting the sum of two dice as Equalto 4 is 0.08333333333333333\n",
            "\n",
            "Probability of getting the sum of two dice as Lessthan 13 is 1.0\n"
          ],
          "name": "stdout"
        }
      ]
    },
    {
      "cell_type": "markdown",
      "metadata": {
        "id": "t8G3-QC9K7l4"
      },
      "source": [
        "  \r\n"
      ]
    },
    {
      "cell_type": "markdown",
      "metadata": {
        "id": "ACtOZ677K_rX"
      },
      "source": [
        "Q. 2.  In the game of snakes and ladders, a fair die is thrown. If event E1 represents all the events of getting a natural number less than 4, event E2 consists of all the events of getting an even number and E3 denotes all the events of getting an odd number. List the sets representing the following:\r\n",
        "\r\n",
        "i)E1 or E2 or E3\r\n",
        "ii)E1 and E2 and E3\r\n",
        "iii)E1 but not E3\r\n"
      ]
    },
    {
      "cell_type": "markdown",
      "metadata": {
        "id": "iLum0_PwMLjA"
      },
      "source": [
        "**Solution:** sample space is given as S = {1 , 2 , 3 , 4 , 5 , 6}\r\n",
        "\r\n",
        "E1 = {1,2,3}\r\n",
        "\r\n",
        "E2 = {2,4,6}\r\n",
        "\r\n",
        "E3 = {1,3,5}\r\n",
        "\r\n",
        "i)E1 or E2 or E3= E1 E2 E3= {1, 2, 3, 4, 5, 6}\r\n",
        "\r\n",
        "ii)E1 and E2 and E3 = E1 E2 E3 = ∅\r\n",
        "\r\n",
        "iii)E1 but not E3 = {2}\r\n",
        "\r\n"
      ]
    },
    {
      "cell_type": "code",
      "metadata": {
        "colab": {
          "base_uri": "https://localhost:8080/"
        },
        "id": "O0axE-7ILQNO",
        "outputId": "49bcb8e0-b77a-48b2-a0f6-992831fb40bf"
      },
      "source": [
        "a = {1,2,3,4,5,6}\r\n",
        "E1=set()\r\n",
        "E2=set()\r\n",
        "E3=set()\r\n",
        "\r\n",
        "for i in range(1,7):\r\n",
        "  if i < 4:\r\n",
        "    E1.add(i)\r\n",
        "  if (i%2)==0:\r\n",
        "    E2.add(i)\r\n",
        "  if (i%2)!=0:\r\n",
        "    E3.add(i)\r\n",
        "\r\n",
        "print(\"Events of getting a natural number less than 4 is \"+ str(E1))\r\n",
        "print(\"Events of getting an even number is \"+ str(E2))\r\n",
        "print(\"Events of getting an odd number is \"+ str(E3))\r\n",
        "print(\"\")\r\n",
        "\r\n",
        "#i)E1 or E2 or E3\r\n",
        "Qi=E1.union(E2).union(E3)\r\n",
        "print(\"E1 or E2 or E3 is \"+ str(Qi))\r\n",
        "print(\"\")\r\n",
        "\r\n",
        "#ii)E1 and E2 and E3 \r\n",
        "Qii = E1.intersection(E2).intersection(E3)\r\n",
        "print(\"E1 and E2 and E3 is \"+ str(Qii))\r\n",
        "print(\"\")\r\n",
        "\r\n",
        "#iii)E1 but not E3\r\n",
        "Qiii=E1.difference(E3)\r\n",
        "print(\"E1 but not E3 is \"+ str(Qiii))\r\n",
        "print(\"\")"
      ],
      "execution_count": 10,
      "outputs": [
        {
          "output_type": "stream",
          "text": [
            "All the events of getting a natural number less than 4 is {1, 2, 3}\n",
            "All the events of getting an even number is {2, 4, 6}\n",
            "All the events of getting an odd number is {1, 3, 5}\n",
            "\n",
            "E1 or E2 or E3 is {1, 2, 3, 4, 5, 6}\n",
            "\n",
            "E1 and E2 and E3 is set()\n",
            "\n",
            "E1 but not E3 is {2}\n",
            "\n"
          ],
          "name": "stdout"
        }
      ]
    },
    {
      "cell_type": "markdown",
      "metadata": {
        "id": "w65A6_duOApj"
      },
      "source": [
        ""
      ]
    },
    {
      "cell_type": "markdown",
      "metadata": {
        "id": "sYXbyLkSOEHy"
      },
      "source": [
        "Q. 3. How many permutations of the letters of the word ARTICLE  have consonants in the first and last positions?\r\n"
      ]
    },
    {
      "cell_type": "markdown",
      "metadata": {
        "id": "Z8RBJC6fOFmS"
      },
      "source": [
        "**Solution:** In the word ARTICLE, there are 4 consonants.\r\n",
        "\r\n",
        "total permutations are  4⋅5⋅4⋅3⋅2⋅1⋅3=1440."
      ]
    },
    {
      "cell_type": "code",
      "metadata": {
        "colab": {
          "base_uri": "https://localhost:8080/"
        },
        "id": "SH_1qVh1Pv0Q",
        "outputId": "b53c6714-b11c-4ca2-867a-9865c9db7ac1"
      },
      "source": [
        "word=[\"A\",\"R\",\"T\",\"I\",\"C\",\"L\",\"E\"]\r\n",
        "noOfconsonants=0\r\n",
        "for i in word:\r\n",
        "  if (i==\"A\" or i==\"E\" or i==\"I\" or i==\"O\" or i==\"U\"):\r\n",
        "    noOfconsonants=noOfconsonants+1\r\n",
        "\r\n",
        "noOfconsonants=len(word) - noOfconsonants\r\n",
        "print(\"In the word ARTICLE, there are \" + str(noOfconsonants) +\" consonants\")\r\n",
        "\r\n",
        "list2=[None] * len(word)\r\n",
        "\r\n",
        "list2[0]=noOfconsonants\r\n",
        "list2[len(word)-1]=noOfconsonants-1\r\n",
        "\r\n",
        "rem=len(word)-2\r\n",
        "for i in range(1,len(word)-1):\r\n",
        "    list2[i]=rem\r\n",
        "    rem=rem-1\r\n",
        "\r\n",
        "mul=1\r\n",
        "for i in list2:\r\n",
        "  mul=mul*i\r\n",
        "\r\n",
        "print(\"Position is \" + str(list2))\r\n",
        "print(\"Total permutations are \" + str(mul))\r\n",
        "print(\"\")"
      ],
      "execution_count": 13,
      "outputs": [
        {
          "output_type": "stream",
          "text": [
            "In the word ARTICLE, there are 4 consonants\n",
            "Position is [4, 5, 4, 3, 2, 1, 3]\n",
            "Total permutations are 1440\n",
            "\n"
          ],
          "name": "stdout"
        }
      ]
    },
    {
      "cell_type": "markdown",
      "metadata": {
        "id": "OUbE7dLUQ03u"
      },
      "source": [
        ""
      ]
    },
    {
      "cell_type": "markdown",
      "metadata": {
        "id": "VpsDWfE9Q1F8"
      },
      "source": [
        "Q. 4. Give five letters {A,B,C,D,E}. Find the following:\r\n",
        "\r\n",
        "The number of four-letter word sequences.\r\n",
        "\r\n",
        "The number of three-letter word sequences.\r\n",
        "\r\n",
        "The number of two-letter word sequences.\r\n"
      ]
    },
    {
      "cell_type": "markdown",
      "metadata": {
        "id": "rDogXz93Re4c"
      },
      "source": [
        "**Solution:** n=5\r\n",
        "\r\n",
        "The number of four-letter word sequences is 5P4 =  5!(5−4)!=5⋅4⋅3⋅2⋅11=5⋅4⋅3⋅2=120\r\n",
        "\r\n",
        "The number of three-letter word sequences is 5P3 =  5!(5−3)!=5⋅4⋅3⋅2⋅12⋅1=5⋅4⋅3=60 \r\n",
        "\r\n",
        "The number of two-letter word sequences is 5P2 =  5!(5−2)!=5⋅4⋅3⋅2⋅13⋅2⋅1=5⋅4=20"
      ]
    },
    {
      "cell_type": "code",
      "metadata": {
        "colab": {
          "base_uri": "https://localhost:8080/"
        },
        "id": "BCsdPmxsRt04",
        "outputId": "fe228e2e-9173-4ee0-c971-196493b2891e"
      },
      "source": [
        "import math\r\n",
        "n=5\r\n",
        "a =int(math.factorial(5)/math.factorial(5-4))\r\n",
        "print(\"The number of four-letter word sequences 5P4 is \" + str(a))\r\n",
        "b =int(math.factorial(5)/math.factorial(5-3))\r\n",
        "print(\"The number of three-letter word sequences 5P3 is \" + str(b))\r\n",
        "c =int(math.factorial(5)/math.factorial(5-2))\r\n",
        "print(\"The number of two-letter word sequences 5P2 is \" + str(c))"
      ],
      "execution_count": 18,
      "outputs": [
        {
          "output_type": "stream",
          "text": [
            "The number of four-letter word sequences '5P4' is 120\n",
            "The number of three-letter word sequences 5P3 is 60\n",
            "The number of two-letter word sequences 5P2 is 20\n"
          ],
          "name": "stdout"
        }
      ]
    },
    {
      "cell_type": "markdown",
      "metadata": {
        "id": "RQc_dozhSCjL"
      },
      "source": [
        ""
      ]
    },
    {
      "cell_type": "markdown",
      "metadata": {
        "id": "6QaeazxYSCrC"
      },
      "source": [
        "Q5.In how many different ways can 4 people be seated in a straight line if two of them insist on sitting next to each other. "
      ]
    },
    {
      "cell_type": "markdown",
      "metadata": {
        "id": "43DvfvbeSgc8"
      },
      "source": [
        "**Solution:** Suppose we have four people A, B, C, and D and let suppose that A and B want to sit together. So the argument will be, we tie A and B together and treat them as one person.\r\n",
        "\r\n",
        "The four people are  [AB]  CD.\r\n",
        "\r\n",
        "[AB]  is treated as one person, so we have the following possibility.\r\n",
        "\r\n",
        "[AB]CD,[AB]DC,C[AB]D,D[AB]C,CD[AB],DC[AB]\r\n",
        "\r\n",
        "There are six more such permutations because A and B could also be tied in the order BA. And they are\r\n",
        "\r\n",
        "[BA]CD,[BA]DC,C[BA]D,D[BA]C,CD[BA],DC[BA]\r\n",
        " \r\n",
        "So altogether there are 12 different permutations."
      ]
    },
    {
      "cell_type": "code",
      "metadata": {
        "colab": {
          "base_uri": "https://localhost:8080/"
        },
        "id": "3Aek_jOjTWmD",
        "outputId": "eb24675e-970d-4644-ab10-6dbc7c9f04bc"
      },
      "source": [
        "from itertools import permutations  \r\n",
        "\r\n",
        "#permutations of A and B\r\n",
        "permAB = permutations([\"A\",\"B\"]) \r\n",
        "print(\"Permutations of A and B is\") \r\n",
        "for i in list(permAB):  \r\n",
        "    print (i)  \r\n",
        "print(\"\")\r\n",
        "\r\n",
        "# Get all permutations of [\"AB\",\"C\",\"D\"]  \r\n",
        "x = permutations([\"AB\",\"C\",\"D\"])  \r\n",
        "print(\"permutations of AB,C,D\")  \r\n",
        "# Print the obtained permutations  \r\n",
        "for i in list(x):  \r\n",
        "    print (i)  \r\n",
        "print(\"\")\r\n",
        "\r\n",
        "# Get all permutations of [\"BA\",\"C\",\"D\"]  \r\n",
        "y = permutations([\"BA\",\"C\",\"D\"])  \r\n",
        "print(\"permutations of BA,C,D\")  \r\n",
        "# Print the obtained permutations  \r\n",
        "for i in list(y):  \r\n",
        "    print (i)  \r\n",
        "\r\n",
        "finalpar=(math.factorial(3)) * (math.factorial(2))\r\n",
        "print(\"\")\r\n",
        "print(\"Total arrangements is \" + str(finalpar))"
      ],
      "execution_count": 19,
      "outputs": [
        {
          "output_type": "stream",
          "text": [
            "Permutations of A and B is\n",
            "('A', 'B')\n",
            "('B', 'A')\n",
            "\n",
            "permutations of AB,C,D\n",
            "('AB', 'C', 'D')\n",
            "('AB', 'D', 'C')\n",
            "('C', 'AB', 'D')\n",
            "('C', 'D', 'AB')\n",
            "('D', 'AB', 'C')\n",
            "('D', 'C', 'AB')\n",
            "\n",
            "permutations of BA,C,D\n",
            "('BA', 'C', 'D')\n",
            "('BA', 'D', 'C')\n",
            "('C', 'BA', 'D')\n",
            "('C', 'D', 'BA')\n",
            "('D', 'BA', 'C')\n",
            "('D', 'C', 'BA')\n",
            "\n",
            "Total arrangements is 12\n"
          ],
          "name": "stdout"
        }
      ]
    },
    {
      "cell_type": "markdown",
      "metadata": {
        "id": "6QmEcN6NUBk5"
      },
      "source": [
        ""
      ]
    },
    {
      "cell_type": "markdown",
      "metadata": {
        "id": "SQ7RKeTCUBto"
      },
      "source": [
        "Q. 6. You have 4 math books and 5 history books to put on a shelf that has 5 slots. In how many ways can the books be shelved if the first three slots are filled with math books and the next two slots are filled with history books?\r\n"
      ]
    },
    {
      "cell_type": "markdown",
      "metadata": {
        "id": "Y_LMcEtYUE2P"
      },
      "source": [
        "**Solution:**math books go in the first three slots, there are 4 choices for the first slot,\r\n",
        "3 choices for the second and 2 choices for the third.\r\n",
        "\r\n",
        "The fourth slot requires a history book, and has five choices. Once that choice is made, there are 4 history books left, and therefore, 4 choices for the last slot. The choices are 4 3 2 5 4\r\n",
        "\r\n",
        "The number of permutations are  4⋅3⋅2⋅5⋅4=480"
      ]
    },
    {
      "cell_type": "code",
      "metadata": {
        "colab": {
          "base_uri": "https://localhost:8080/"
        },
        "id": "v1hH54v7XmWs",
        "outputId": "bb565eac-9f39-4898-ebc6-879c88c01e34"
      },
      "source": [
        "import math\r\n",
        "m=4*3*2*5*4\r\n",
        "print(\"The number of permutations uisng using the multiplication axiom \" + str(m))\r\n",
        "\r\n",
        "n=int((math.factorial(4)/math.factorial(4-3))*(math.factorial(5)/math.factorial(5-2)))\r\n",
        "print(\"The number of permutations are \" + str(n))\r\n"
      ],
      "execution_count": 21,
      "outputs": [
        {
          "output_type": "stream",
          "text": [
            "The number of permutations uisng using the multiplication axiom 480\n",
            "The number of permutations are 480\n"
          ],
          "name": "stdout"
        }
      ]
    },
    {
      "cell_type": "markdown",
      "metadata": {
        "id": "gb1srmVdYC9x"
      },
      "source": [
        ""
      ]
    },
    {
      "cell_type": "markdown",
      "metadata": {
        "id": "g6G5IxdFYDEE"
      },
      "source": [
        "Q. 7. The shopping mall has a straight row of 5 flagpoles at its main entrance plaza. It has 3 identical green flags and 2 identical yellow flags. How many distinct arrangements of flags on the flagpoles are possible?\r\n"
      ]
    },
    {
      "cell_type": "code",
      "metadata": {
        "colab": {
          "base_uri": "https://localhost:8080/"
        },
        "id": "yYCZ0zMGYUpx",
        "outputId": "e96fa8b0-5476-4c39-a3e8-0242427ccf30"
      },
      "source": [
        "import math\r\n",
        "from itertools import permutations\r\n",
        "from itertools import combinations\r\n",
        "\r\n",
        "h=math.factorial(5)/(math.factorial(3)*math.factorial(2))\r\n",
        "print(\"Distinct permutations of the letters GGGYY \" + str(h))\r\n",
        "list3=[]\r\n",
        "permu = permutations(\"GGGYY\")\r\n",
        "print(\"\")  \r\n",
        "\r\n",
        "for i in list(permu):\r\n",
        "    list3.append(i)\r\n",
        "\r\n",
        "print(\"Distinct permutations of the letters GGGYY\")\r\n",
        "print(set(list3))\r\n",
        "print(\"\")"
      ],
      "execution_count": 23,
      "outputs": [
        {
          "output_type": "stream",
          "text": [
            "Distinct permutations of the letters GGGYY 10.0\n",
            "\n",
            "Distinct permutations of the letters GGGYY\n",
            "{('G', 'G', 'Y', 'G', 'Y'), ('G', 'G', 'G', 'Y', 'Y'), ('Y', 'G', 'G', 'Y', 'G'), ('Y', 'G', 'Y', 'G', 'G'), ('G', 'Y', 'G', 'Y', 'G'), ('G', 'Y', 'Y', 'G', 'G'), ('Y', 'G', 'G', 'G', 'Y'), ('Y', 'Y', 'G', 'G', 'G'), ('G', 'G', 'Y', 'Y', 'G'), ('G', 'Y', 'G', 'G', 'Y')}\n",
            "\n"
          ],
          "name": "stdout"
        }
      ]
    },
    {
      "cell_type": "markdown",
      "metadata": {
        "id": "_n2THsIJZ0_P"
      },
      "source": [
        ""
      ]
    },
    {
      "cell_type": "markdown",
      "metadata": {
        "id": "F4C7X6HAZCQL"
      },
      "source": [
        "Q.8.  A Birthday Problem (Collision of Birth Days): \r\n",
        "\r\n",
        "\"If there are ‘n’ people in a room, what is the chance that some pair among them have the same birthday?\"\r\n"
      ]
    },
    {
      "cell_type": "code",
      "metadata": {
        "colab": {
          "base_uri": "https://localhost:8080/"
        },
        "id": "shXBIcl9ZYBQ",
        "outputId": "f90da219-ed24-4ac4-fd4e-ca3738ab1642"
      },
      "source": [
        "import math\r\n",
        "n = input(\"Enter number of people in room :\")\r\n",
        "e=math.exp(-int(n)**2/(2*365))\r\n",
        "p=1-e\r\n",
        "print(\"Chance of having same birthday if \" + str(n) + \" people's are in same room is \"+ str(p))"
      ],
      "execution_count": 25,
      "outputs": [
        {
          "output_type": "stream",
          "text": [
            "Enter number of people in room :20\n",
            "Chance of having same birthday if 20 people's are in same room is 0.42186345748271603\n"
          ],
          "name": "stdout"
        }
      ]
    },
    {
      "cell_type": "markdown",
      "metadata": {
        "id": "iT5ObInxZ4VW"
      },
      "source": [
        ""
      ]
    },
    {
      "cell_type": "markdown",
      "metadata": {
        "id": "fesMsswbZ47v"
      },
      "source": [
        "Q. 9. You have a fair, well-shuffled deck of 52 cards. It consists of four suits. The suits are clubs, diamonds, hearts and spaces. There are 13 cards in each suit consisting of 1, 2, 3, 4, 5, 6, 7, 8, 9, J(Jack), Q(Queen), H(king) of that suit.\r\n",
        "\r\n",
        "Three cards are picked at random\r\n",
        "a. Suppose you know that the picked cards are Q of spades, K of hearts and Q of spades. Can you decide if the sampling was with or without replacement?\r\n",
        "\r\n",
        "b. Suppose  you know that the picked cards are Q of spades, K of hearts and J of spades. Can you decide if the sampling was with or without replacement?\r\n"
      ]
    },
    {
      "cell_type": "code",
      "metadata": {
        "colab": {
          "base_uri": "https://localhost:8080/"
        },
        "id": "XnMZ1zFbaM7m",
        "outputId": "df17c19a-c13c-4618-e536-5b35ae8a574b"
      },
      "source": [
        "def sampling(list4):\r\n",
        "  lent=len(list4)\r\n",
        "  sizeofset=len(set(list4))\r\n",
        "  if len==sizeofset:\r\n",
        "    s=\"without replacement and with replacement sampling method\"\r\n",
        "  else:\r\n",
        "    s=\"only with replacement sampling method\"\r\n",
        "  return s\r\n",
        "\r\n",
        "print(\"For 3 random cards picked i.e. Q of spades, K of hearts and Q of spades is possible using \" + sampling([\"QS\",\"KH\",\"QS\"]) +\".\")\r\n",
        "print(\"For 3 random cards picked i.e. Q of spades, K of hearts and J of spades is possible using \" + sampling([\"QS\",\"KH\",\"JS\"])+\".\")"
      ],
      "execution_count": 26,
      "outputs": [
        {
          "output_type": "stream",
          "text": [
            "For 3 random cards picked i.e. Q of spades, K of hearts and Q of spades is possible using only with replacement sampling method.\n",
            "For 3 random cards picked i.e. Q of spades, K of hearts and J of spades is possible using only with replacement sampling method.\n"
          ],
          "name": "stdout"
        }
      ]
    },
    {
      "cell_type": "markdown",
      "metadata": {
        "id": "xyJ0PrWZarxP"
      },
      "source": [
        ""
      ]
    },
    {
      "cell_type": "markdown",
      "metadata": {
        "id": "JopIh7AQasBs"
      },
      "source": [
        "Q. 10. You have a fair, well-shuffled deck of 52 cards. It consists of four suits. The suits are clubs, diamonds, hearts and spaces. There are 13 cards in each suit consisting of 1, 2, 3, 4, 5, 6, 7, 8, 9, J(Jack), Q(Queen), H(king) of that suit. S=spades, H=Hearts, D=Diamonds, C=Clubs, suppose that you sample four cards without replacement. \r\n",
        "\r\n",
        "Which of the following outcomes are possible? \r\n",
        "\r\n",
        "Answer the following questions for sampling with replacement.\r\n",
        "\r\n",
        "a. QS, ID, 1C, QD\r\n",
        "\r\n",
        "b. KH, 7D, 6D, KH\r\n",
        "\r\n",
        "c. QS, 7D, 6D, KS\r\n"
      ]
    },
    {
      "cell_type": "code",
      "metadata": {
        "colab": {
          "base_uri": "https://localhost:8080/"
        },
        "id": "DPNuO9MUbC_8",
        "outputId": "c769e45d-d567-4ec9-f8f7-ec101d2b7182"
      },
      "source": [
        "print(\"Four cards i.e. QS, ID, 1C, QD is possible with using \" + sampling([\"QS\", \"ID\", \"1C\", \"QD\"]))\r\n",
        "print(\"Four cards i.e. KH, 7D, 6D, KH is possible with using \" + sampling([\"KH\", \"7D\", \"6D\", \"KH\"]))\r\n",
        "print(\"Four cards i.e. QS, 7D, 6D, KS is possible with using \" + sampling([\"QS\", \"7D\", \"6D\", \"KS\"]))"
      ],
      "execution_count": 27,
      "outputs": [
        {
          "output_type": "stream",
          "text": [
            "Four cards i.e. QS, ID, 1C, QD is possible with using only with replacement sampling method\n",
            "Four cards i.e. KH, 7D, 6D, KH is possible with using only with replacement sampling method\n",
            "Four cards i.e. QS, 7D, 6D, KS is possible with using only with replacement sampling method\n"
          ],
          "name": "stdout"
        }
      ]
    }
  ]
}